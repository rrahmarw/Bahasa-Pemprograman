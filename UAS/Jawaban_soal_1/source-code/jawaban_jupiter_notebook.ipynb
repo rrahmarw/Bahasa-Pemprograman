{
 "cells": [
  {
   "cell_type": "markdown",
   "metadata": {},
   "source": [
    "Contoh Fungsi Rekursif Lain: Menjumlahkan Elemen dalam Daftar"
   ]
  },
  {
   "cell_type": "code",
   "execution_count": 1,
   "metadata": {},
   "outputs": [
    {
     "name": "stdout",
     "output_type": "stream",
     "text": [
      "Jumlah elemen dalam daftar adalah 15\n"
     ]
    }
   ],
   "source": [
    "def jumlahkan_elemen(lst):\n",
    "    # Kasus dasar: jika daftar kosong, jumlahnya adalah 0\n",
    "    if not lst:\n",
    "        return 0\n",
    "    # Kasus rekursif: elemen pertama + jumlahkan elemen sisanya\n",
    "    else:\n",
    "        return lst[0] + jumlahkan_elemen(lst[1:])\n",
    "\n",
    "# Contoh penggunaan\n",
    "daftar = [1, 2, 3, 4, 5]\n",
    "print(f\"Jumlah elemen dalam daftar adalah {jumlahkan_elemen(daftar)}\")\n"
   ]
  }
 ],
 "metadata": {
  "kernelspec": {
   "display_name": "Python 3",
   "language": "python",
   "name": "python3"
  },
  "language_info": {
   "codemirror_mode": {
    "name": "ipython",
    "version": 3
   },
   "file_extension": ".py",
   "mimetype": "text/x-python",
   "name": "python",
   "nbconvert_exporter": "python",
   "pygments_lexer": "ipython3",
   "version": "3.10.12"
  }
 },
 "nbformat": 4,
 "nbformat_minor": 2
}
