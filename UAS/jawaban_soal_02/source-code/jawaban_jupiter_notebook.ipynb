{
 "cells": [
  {
   "cell_type": "markdown",
   "metadata": {},
   "source": [
    "Menangani Kesalahan Pembagian dengan Nol:"
   ]
  },
  {
   "cell_type": "code",
   "execution_count": 1,
   "metadata": {},
   "outputs": [
    {
     "name": "stdout",
     "output_type": "stream",
     "text": [
      "5.0\n",
      "Kesalahan: Pembagian dengan nol tidak diperbolehkan.\n"
     ]
    }
   ],
   "source": [
    "def bagi(a, b):\n",
    "    try:\n",
    "        hasil = a / b\n",
    "    except ZeroDivisionError:\n",
    "        return \"Kesalahan: Pembagian dengan nol tidak diperbolehkan.\"\n",
    "    return hasil\n",
    "\n",
    "# Contoh penggunaan\n",
    "print(bagi(10, 2))  # Output: 5.0\n",
    "print(bagi(10, 0))  # Output: Kesalahan: Pembagian dengan nol tidak diperbolehkan.\n"
   ]
  },
  {
   "cell_type": "markdown",
   "metadata": {},
   "source": [
    " Dalam contoh ini, jika b adalah 0, maka pembagian akan menghasilkan pengecualian ZeroDivisionError, yang ditangani di blok except."
   ]
  },
  {
   "cell_type": "markdown",
   "metadata": {},
   "source": [
    "pada file berikutnya ada contoh untuk Aplikasi Pembaca dan Pemroses Data CSV\n",
    "\n",
    "Deskripsi:\n",
    "Aplikasi ini akan:\n",
    "\n",
    "Membaca file CSV.\n",
    "Memproses setiap baris untuk menghitung total dan rata-rata dari kolom numerik.\n",
    "Menangani berbagai jenis pengecualian yang mungkin terjadi selama proses ini."
   ]
  }
 ],
 "metadata": {
  "kernelspec": {
   "display_name": "Python 3",
   "language": "python",
   "name": "python3"
  },
  "language_info": {
   "codemirror_mode": {
    "name": "ipython",
    "version": 3
   },
   "file_extension": ".py",
   "mimetype": "text/x-python",
   "name": "python",
   "nbconvert_exporter": "python",
   "pygments_lexer": "ipython3",
   "version": "3.10.12"
  }
 },
 "nbformat": 4,
 "nbformat_minor": 2
}
