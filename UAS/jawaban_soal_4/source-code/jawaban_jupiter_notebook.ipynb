{
 "cells": [
  {
   "cell_type": "markdown",
   "metadata": {},
   "source": [
    "Contoh Kode: Menggunakan SQLite"
   ]
  },
  {
   "cell_type": "code",
   "execution_count": 1,
   "metadata": {},
   "outputs": [
    {
     "name": "stdout",
     "output_type": "stream",
     "text": [
      "(1, 'Alice', 30)\n"
     ]
    }
   ],
   "source": [
    "import sqlite3\n",
    "\n",
    "# Membuat koneksi ke database (file SQLite)\n",
    "conn = sqlite3.connect('example.db')\n",
    "\n",
    "# Membuat objek cursor\n",
    "cursor = conn.cursor()\n",
    "\n",
    "# Membuat tabel\n",
    "cursor.execute('''\n",
    "CREATE TABLE IF NOT EXISTS users (\n",
    "    id INTEGER PRIMARY KEY,\n",
    "    name TEXT,\n",
    "    age INTEGER\n",
    ")\n",
    "''')\n",
    "\n",
    "# Menyisipkan data\n",
    "cursor.execute('''\n",
    "INSERT INTO users (name, age) VALUES (?, ?)\n",
    "''', ('Alice', 30))\n",
    "\n",
    "# Menyimpan perubahan\n",
    "conn.commit()\n",
    "\n",
    "# Mengambil data\n",
    "cursor.execute('SELECT * FROM users')\n",
    "rows = cursor.fetchall()\n",
    "for row in rows:\n",
    "    print(row)\n",
    "\n",
    "# Menutup koneksi\n",
    "conn.close()\n"
   ]
  },
  {
   "cell_type": "markdown",
   "metadata": {},
   "source": [
    "Penjelasan Kode:\n",
    "Koneksi ke Database: sqlite3.connect('example.db') membuat atau membuka file database SQLite bernama example.db.\n",
    "\n",
    "Membuat Cursor: cursor adalah objek yang digunakan untuk menjalankan perintah SQL.\n",
    "\n",
    "Membuat Tabel: CREATE TABLE IF NOT EXISTS membuat tabel baru jika belum ada.\n",
    "\n",
    "Menyisipkan Data: INSERT INTO menambahkan data baru ke tabel. Placeholder ? digunakan untuk menghindari serangan SQL Injection.\n",
    "\n",
    "Menyimpan Perubahan: conn.commit() menyimpan perubahan yang dilakukan dalam database.\n",
    "\n",
    "Mengambil Data: SELECT * FROM users mengambil semua data dari tabel users. fetchall() mendapatkan semua hasil query.\n",
    "\n",
    "Menutup Koneksi: conn.close() menutup koneksi ke database."
   ]
  }
 ],
 "metadata": {
  "kernelspec": {
   "display_name": "Python 3",
   "language": "python",
   "name": "python3"
  },
  "language_info": {
   "codemirror_mode": {
    "name": "ipython",
    "version": 3
   },
   "file_extension": ".py",
   "mimetype": "text/x-python",
   "name": "python",
   "nbconvert_exporter": "python",
   "pygments_lexer": "ipython3",
   "version": "3.10.12"
  }
 },
 "nbformat": 4,
 "nbformat_minor": 2
}
