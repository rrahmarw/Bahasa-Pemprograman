{
 "cells": [
  {
   "cell_type": "code",
   "execution_count": 5,
   "metadata": {},
   "outputs": [],
   "source": [
    "import tkinter as tk\n",
    "from tkinter import ttk, messagebox\n",
    "\n",
    "def update_label():\n",
    "    label.config(text=f\"Anda memasukkan: {entry.get()}\")\n",
    "\n",
    "def show_selection():\n",
    "    label.config(text=f\"Pilihan Anda: {combo_box.get()}\")\n",
    "\n",
    "def show_message():\n",
    "    messagebox.showinfo(\"Informasi\", \"Ini adalah jendela pesan pop-up.\")\n",
    "\n",
    "# Membuat jendela utama\n",
    "root = tk.Tk()\n",
    "root.title(\" GUI \")\n",
    "root.geometry(\"300x200\")\n",
    "\n",
    "# Membuat label\n",
    "label = tk.Label(root, text=\"Halo!\")\n",
    "label.pack(pady=10)\n",
    "\n",
    "# Membuat entri teks dan tombol untuk mengupdate label\n",
    "entry = tk.Entry(root)\n",
    "entry.pack(pady=5)\n",
    "tk.Button(root, text=\"Update Label\", command=update_label).pack(pady=5)\n",
    "\n",
    "# Membuat menu drop-down dan tombol untuk menampilkan pilihan\n",
    "combo_box = ttk.Combobox(root, values=[\"Opsi 1\", \"Opsi 2\", \"Opsi 3\"])\n",
    "combo_box.pack(pady=5)\n",
    "tk.Button(root, text=\"Tampilkan Pilihan\", command=show_selection).pack(pady=5)\n",
    "\n",
    "# Membuat tombol untuk menampilkan pesan pop-up\n",
    "tk.Button(root, text=\"Tampilkan Pesan\", command=show_message).pack(pady=5)\n",
    "\n",
    "# Menjalankan aplikasi GUI\n",
    "root.mainloop()\n"
   ]
  },
  {
   "cell_type": "markdown",
   "metadata": {},
   "source": [
    "Penjelasan Kode:\n",
    "Import Library: Mengimpor tkinter, ttk (untuk menu drop-down), dan messagebox (untuk pop-up).\n",
    "\n",
    "Fungsi update_label: Memperbarui label dengan teks dari entri.\n",
    "\n",
    "Fungsi show_selection: Memperbarui label dengan pilihan dari menu drop-down.\n",
    "\n",
    "Fungsi show_message: Menampilkan pesan pop-up.\n",
    "\n",
    "Membuat Jendela Utama: root adalah jendela utama dengan judul dan ukuran yang lebih kecil.\n",
    "\n",
    "Membuat Label, Entri Teks, dan Tombol: Menggunakan pack() untuk tata letak vertikal yang lebih sederhana.\n",
    "\n",
    "Membuat Menu Drop-Down dan Tombol: Menggunakan pack() untuk tata letak vertikal yang lebih sederhana.\n",
    "\n",
    "Menjalankan Aplikasi: root.mainloop() memulai loop utama aplikasi GUI.\n",
    "\n",
    "Kode ini lebih ringkas, tetapi tetap mencakup fungsi dasar untuk entri teks, menu drop-down, dan pesan pop-up."
   ]
  }
 ],
 "metadata": {
  "kernelspec": {
   "display_name": "Python 3",
   "language": "python",
   "name": "python3"
  },
  "language_info": {
   "codemirror_mode": {
    "name": "ipython",
    "version": 3
   },
   "file_extension": ".py",
   "mimetype": "text/x-python",
   "name": "python",
   "nbconvert_exporter": "python",
   "pygments_lexer": "ipython3",
   "version": "3.10.12"
  }
 },
 "nbformat": 4,
 "nbformat_minor": 2
}
